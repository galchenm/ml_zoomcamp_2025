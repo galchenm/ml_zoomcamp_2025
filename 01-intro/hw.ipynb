{
 "cells": [
  {
   "cell_type": "code",
   "execution_count": 31,
   "id": "ecddaa63-9bb2-4c4d-876e-6ed9b9e89351",
   "metadata": {},
   "outputs": [],
   "source": [
    "import pandas as pd\n",
    "import numpy as np"
   ]
  },
  {
   "cell_type": "code",
   "execution_count": 32,
   "id": "a11cdf84-9e47-45ac-8ab7-e6d625c88348",
   "metadata": {},
   "outputs": [
    {
     "data": {
      "text/plain": [
       "(9704, 11)"
      ]
     },
     "execution_count": 32,
     "metadata": {},
     "output_type": "execute_result"
    }
   ],
   "source": [
    "data = 'car_fuel_efficiency.csv'\n",
    "df = pd.read_csv(data)\n",
    "df.shape"
   ]
  },
  {
   "cell_type": "code",
   "execution_count": 33,
   "id": "7e543da2-a215-449d-82d5-d25c4b3d3739",
   "metadata": {},
   "outputs": [
    {
     "data": {
      "text/plain": [
       "Index(['engine_displacement', 'num_cylinders', 'horsepower', 'vehicle_weight',\n",
       "       'acceleration', 'model_year', 'origin', 'fuel_type', 'drivetrain',\n",
       "       'num_doors', 'fuel_efficiency_mpg'],\n",
       "      dtype='object')"
      ]
     },
     "execution_count": 33,
     "metadata": {},
     "output_type": "execute_result"
    }
   ],
   "source": [
    "df.columns"
   ]
  },
  {
   "cell_type": "code",
   "execution_count": 34,
   "id": "6899f7b1-5de4-4c6d-9879-88e6a1229f8e",
   "metadata": {},
   "outputs": [
    {
     "data": {
      "text/plain": [
       "array(['Gasoline', 'Diesel'], dtype=object)"
      ]
     },
     "execution_count": 34,
     "metadata": {},
     "output_type": "execute_result"
    }
   ],
   "source": [
    "df.fuel_type.unique()"
   ]
  },
  {
   "cell_type": "code",
   "execution_count": 35,
   "id": "16f8002a-4a91-4081-8b82-5542d812bb21",
   "metadata": {},
   "outputs": [
    {
     "data": {
      "text/plain": [
       "array(['Europe', 'USA', 'Asia'], dtype=object)"
      ]
     },
     "execution_count": 35,
     "metadata": {},
     "output_type": "execute_result"
    }
   ],
   "source": [
    "df.origin.unique()"
   ]
  },
  {
   "cell_type": "code",
   "execution_count": 36,
   "id": "69c8280c-d0f8-4dd1-b6d9-a4cfefb635fb",
   "metadata": {},
   "outputs": [
    {
     "data": {
      "text/plain": [
       "23.759122836520497"
      ]
     },
     "execution_count": 36,
     "metadata": {},
     "output_type": "execute_result"
    }
   ],
   "source": [
    "df[df.origin == 'Asia'].fuel_efficiency_mpg.max()"
   ]
  },
  {
   "cell_type": "code",
   "execution_count": 37,
   "id": "9cb5e1b6-8056-4550-9699-15e92ea94977",
   "metadata": {},
   "outputs": [
    {
     "name": "stdout",
     "output_type": "stream",
     "text": [
      "Number of columns with missing values: 4\n"
     ]
    }
   ],
   "source": [
    "missing_columns = df.isnull().any().sum()\n",
    "\n",
    "print(f\"Number of columns with missing values: {missing_columns}\")"
   ]
  },
  {
   "cell_type": "code",
   "execution_count": 38,
   "id": "6d76db63-1ebd-44c3-8bb2-742a9a03c72c",
   "metadata": {},
   "outputs": [
    {
     "name": "stdout",
     "output_type": "stream",
     "text": [
      "Columns with missing values: ['num_cylinders', 'horsepower', 'acceleration', 'num_doors']\n"
     ]
    }
   ],
   "source": [
    "cols_with_missing = df.columns[df.isnull().any()].tolist()\n",
    "print(\"Columns with missing values:\", cols_with_missing)\n"
   ]
  },
  {
   "cell_type": "markdown",
   "id": "d5886eee-f094-4a93-845a-2469edaf7f30",
   "metadata": {},
   "source": [
    "1. Find the median value of `horsepower` column in the dataset.\n",
    "2. Next, calculate the most frequent value of the same `horsepower` column.\n",
    "3. Use `fillna` method to fill the missing values in `horsepower` column with the most frequent value from the previous step.\n",
    "4. Now, calculate the median value of `horsepower` once again.\n",
    "\n",
    "Has it changed?"
   ]
  },
  {
   "cell_type": "code",
   "execution_count": 16,
   "id": "4c031f5a-c67b-4bab-a8bd-224fa1deff09",
   "metadata": {},
   "outputs": [
    {
     "data": {
      "text/plain": [
       "0       159.0\n",
       "1        97.0\n",
       "2        78.0\n",
       "3         NaN\n",
       "4       140.0\n",
       "        ...  \n",
       "9699    164.0\n",
       "9700    154.0\n",
       "9701    138.0\n",
       "9702    177.0\n",
       "9703    140.0\n",
       "Name: horsepower, Length: 9704, dtype: float64"
      ]
     },
     "execution_count": 16,
     "metadata": {},
     "output_type": "execute_result"
    }
   ],
   "source": [
    "df.horsepower"
   ]
  },
  {
   "cell_type": "code",
   "execution_count": 7,
   "id": "2da6ff11-cf50-4b0f-895e-9ebe4169a374",
   "metadata": {},
   "outputs": [
    {
     "data": {
      "text/plain": [
       "149.0"
      ]
     },
     "execution_count": 7,
     "metadata": {},
     "output_type": "execute_result"
    }
   ],
   "source": [
    "df.horsepower.median()"
   ]
  },
  {
   "cell_type": "code",
   "execution_count": 17,
   "id": "e84aa626-5140-44d8-a1cc-fca4b330675d",
   "metadata": {},
   "outputs": [
    {
     "data": {
      "text/plain": [
       "np.float64(152.0)"
      ]
     },
     "execution_count": 17,
     "metadata": {},
     "output_type": "execute_result"
    }
   ],
   "source": [
    "mode = df.horsepower.mode()[0]\n",
    "mode"
   ]
  },
  {
   "cell_type": "code",
   "execution_count": 18,
   "id": "b5b7ed3f-46c5-4a76-9099-e10935689776",
   "metadata": {},
   "outputs": [],
   "source": [
    "df.horsepower.fillna(mode, inplace=True)"
   ]
  },
  {
   "cell_type": "code",
   "execution_count": 19,
   "id": "491e3980-3fca-4a09-b591-d9e1825ee6d5",
   "metadata": {},
   "outputs": [
    {
     "data": {
      "text/plain": [
       "0       159.0\n",
       "1        97.0\n",
       "2        78.0\n",
       "3       152.0\n",
       "4       140.0\n",
       "        ...  \n",
       "9699    164.0\n",
       "9700    154.0\n",
       "9701    138.0\n",
       "9702    177.0\n",
       "9703    140.0\n",
       "Name: horsepower, Length: 9704, dtype: float64"
      ]
     },
     "execution_count": 19,
     "metadata": {},
     "output_type": "execute_result"
    }
   ],
   "source": [
    "df.horsepower"
   ]
  },
  {
   "cell_type": "code",
   "execution_count": 20,
   "id": "de23f5ad-6057-4d0f-901e-9b225ff8edce",
   "metadata": {},
   "outputs": [
    {
     "data": {
      "text/plain": [
       "152.0"
      ]
     },
     "execution_count": 20,
     "metadata": {},
     "output_type": "execute_result"
    }
   ],
   "source": [
    "df.horsepower.median()"
   ]
  },
  {
   "cell_type": "markdown",
   "id": "4783d302-9bef-4072-92fb-d4750367e3f6",
   "metadata": {},
   "source": [
    "1. Select all the cars from Asia\n",
    "2. Select only columns `vehicle_weight` and `model_year`\n",
    "3. Select the first 7 values\n",
    "4. Get the underlying NumPy array. Let's call it `X`.\n",
    "5. Compute matrix-matrix multiplication between the transpose of `X` and `X`. To get the transpose, use `X.T`. Let's call the result `XTX`.\n",
    "6. Invert `XTX`.\n",
    "7. Create an array `y` with values `[1100, 1300, 800, 900, 1000, 1100, 1200]`.\n",
    "8. Multiply the inverse of `XTX` with the transpose of `X`, and then multiply the result by `y`. Call the result `w`.\n",
    "9. What's the sum of all the elements of the result?"
   ]
  },
  {
   "cell_type": "code",
   "execution_count": 28,
   "id": "0d920a16-ec18-499a-ae35-e47cc2b09b68",
   "metadata": {},
   "outputs": [
    {
     "data": {
      "text/plain": [
       "array([[ 5.71497081e-07, -8.34509443e-07],\n",
       "       [-8.34509443e-07,  1.25380877e-06]])"
      ]
     },
     "execution_count": 28,
     "metadata": {},
     "output_type": "execute_result"
    }
   ],
   "source": [
    "asia = df[df.origin == 'Asia']\n",
    "asia = asia[['vehicle_weight','model_year']]\n",
    "X = asia[:7].to_numpy()\n",
    "matrix_mul = (X.T).dot(X)\n",
    "matrix_mul_inv = np.linalg.inv(matrix_mul)\n",
    "matrix_mul_inv"
   ]
  },
  {
   "cell_type": "code",
   "execution_count": 27,
   "id": "79f23f96-07f2-4d2a-9b7f-5ad3262d0c17",
   "metadata": {},
   "outputs": [],
   "source": [
    "y = np.array([1100, 1300, 800, 900, 1000, 1100, 1200])"
   ]
  },
  {
   "cell_type": "code",
   "execution_count": 29,
   "id": "8c57873d-f541-4247-a654-48f2f7d9a079",
   "metadata": {},
   "outputs": [
    {
     "data": {
      "text/plain": [
       "array([0.01386421, 0.5049067 ])"
      ]
     },
     "execution_count": 29,
     "metadata": {},
     "output_type": "execute_result"
    }
   ],
   "source": [
    "w = (matrix_mul_inv.dot(X.T)).dot(y)\n",
    "w"
   ]
  },
  {
   "cell_type": "code",
   "execution_count": 30,
   "id": "502ac5ec-96f9-4a3c-a148-7d644a66636d",
   "metadata": {},
   "outputs": [
    {
     "data": {
      "text/plain": [
       "np.float64(0.5187709081074007)"
      ]
     },
     "execution_count": 30,
     "metadata": {},
     "output_type": "execute_result"
    }
   ],
   "source": [
    "w.sum()"
   ]
  },
  {
   "cell_type": "code",
   "execution_count": null,
   "id": "61474968-d75c-4614-9581-b832920ceac3",
   "metadata": {},
   "outputs": [],
   "source": []
  }
 ],
 "metadata": {
  "kernelspec": {
   "display_name": "Python 3 (ipykernel)",
   "language": "python",
   "name": "python3"
  },
  "language_info": {
   "codemirror_mode": {
    "name": "ipython",
    "version": 3
   },
   "file_extension": ".py",
   "mimetype": "text/x-python",
   "name": "python",
   "nbconvert_exporter": "python",
   "pygments_lexer": "ipython3",
   "version": "3.11.13"
  }
 },
 "nbformat": 4,
 "nbformat_minor": 5
}
